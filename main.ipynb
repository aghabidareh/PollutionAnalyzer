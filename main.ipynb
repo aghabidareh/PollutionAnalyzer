{
 "cells": [
  {
   "cell_type": "code",
   "id": "initial_id",
   "metadata": {
    "collapsed": true,
    "ExecuteTime": {
     "end_time": "2025-06-11T05:48:48.409313Z",
     "start_time": "2025-06-11T05:48:48.398907Z"
    }
   },
   "source": [
    "import pandas as pd\n",
    "import matplotlib.pyplot as plt\n",
    "import seaborn as sns\n",
    "import uuid\n",
    "import os"
   ],
   "outputs": [],
   "execution_count": 13
  },
  {
   "metadata": {
    "ExecuteTime": {
     "end_time": "2025-06-11T05:49:19.780152Z",
     "start_time": "2025-06-11T05:49:19.767191Z"
    }
   },
   "cell_type": "code",
   "source": "sns.set_palette(\"deep\")",
   "id": "b68a1741ede21d1d",
   "outputs": [],
   "execution_count": 15
  },
  {
   "metadata": {
    "ExecuteTime": {
     "end_time": "2025-06-11T05:49:33.674923Z",
     "start_time": "2025-06-11T05:49:33.666020Z"
    }
   },
   "cell_type": "code",
   "source": "os.makedirs('plots', exist_ok=True)",
   "id": "920d7b316aa386e1",
   "outputs": [],
   "execution_count": 16
  },
  {
   "metadata": {
    "ExecuteTime": {
     "end_time": "2025-06-11T05:50:32.664315Z",
     "start_time": "2025-06-11T05:50:29.136507Z"
    }
   },
   "cell_type": "code",
   "source": "df = pd.read_csv('data.csv')",
   "id": "ad35852cbd96bbe",
   "outputs": [],
   "execution_count": 17
  },
  {
   "metadata": {},
   "cell_type": "code",
   "outputs": [],
   "execution_count": null,
   "source": [
    "df = df.drop(columns=['Unnamed: 0'], errors='ignore')\n",
    "df['Date Local'] = pd.to_datetime(df['Date Local'], errors='coerce')\n",
    "df['Year'] = df['Date Local'].dt.year\n",
    "df['Month'] = df['Date Local'].dt.month\n",
    "df['State_County_City'] = df['State'] + '_' + df['County'] + '_' + df['City']"
   ],
   "id": "73ab349518c1859d"
  }
 ],
 "metadata": {
  "kernelspec": {
   "display_name": "Python 3",
   "language": "python",
   "name": "python3"
  },
  "language_info": {
   "codemirror_mode": {
    "name": "ipython",
    "version": 2
   },
   "file_extension": ".py",
   "mimetype": "text/x-python",
   "name": "python",
   "nbconvert_exporter": "python",
   "pygments_lexer": "ipython2",
   "version": "2.7.6"
  }
 },
 "nbformat": 4,
 "nbformat_minor": 5
}
